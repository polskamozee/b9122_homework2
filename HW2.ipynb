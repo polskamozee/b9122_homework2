{
 "cells": [
  {
   "cell_type": "markdown",
   "metadata": {},
   "source": [
    "### HW2 \n",
    "### Qiyun (Jenny) Ni\n",
    "### Computing for Finance\n"
   ]
  },
  {
   "cell_type": "markdown",
   "metadata": {},
   "source": [
    "\n",
    "# Question 1"
   ]
  },
  {
   "cell_type": "code",
   "execution_count": 33,
   "metadata": {},
   "outputs": [
    {
     "name": "stdout",
     "output_type": "stream",
     "text": [
      "https://www.federalreserve.gov/newsevents/pressreleases/2021-press.htm\n",
      "https://www.federalreserve.gov/newsevents/pressreleases/2020-press.htm\n",
      "https://www.federalreserve.gov/newsevents/pressreleases/monetary20220615a.htm\n",
      "https://www.federalreserve.gov/newsevents/pressreleases/monetary20220504a.htm\n",
      "https://www.federalreserve.gov/newsevents/pressreleases/monetary20220126a.htm\n",
      "https://www.federalreserve.gov/newsevents/pressreleases/other20220523a.htm\n",
      "https://www.federalreserve.gov/newsevents/pressreleases/enforcement20220405a.htm\n",
      "https://www.federalreserve.gov/newsevents/pressreleases/other20220225a.htm\n",
      "https://www.federalreserve.gov/newsevents/pressreleases/bcreg20220214a.htm\n",
      "https://www.federalreserve.gov/newsevents/pressreleases/other20220114a.htm\n",
      "https://www.federalreserve.gov/newsevents/pressreleases/monetary20211215a.htm\n",
      "https://www.federalreserve.gov/newsevents/pressreleases/monetary20211103a.htm\n",
      "https://www.federalreserve.gov/newsevents/pressreleases/monetary20210922a.htm\n",
      "https://www.federalreserve.gov/newsevents/pressreleases/monetary20210616a.htm\n",
      "https://www.federalreserve.gov/newsevents/pressreleases/monetary20210428a.htm\n"
     ]
    }
   ],
   "source": [
    "from bs4 import BeautifulSoup\n",
    "import urllib.request\n",
    "\n",
    "\n",
    "def is_contain_covid(soup):\n",
    "    '''\n",
    "    Returns True if the input soup object contains \"covid\"\n",
    "    text, and returns False otherwise. \n",
    "    '''\n",
    "    text = soup.get_text()\n",
    "    text = text.replace('\\n', ' ')\n",
    "    text = text.lower()\n",
    "    return 'covid' in text\n",
    "\n",
    "\n",
    "seed_url = \"https://www.federalreserve.gov/newsevents/pressreleases.htm\"\n",
    "\n",
    "\n",
    "urls = [seed_url]    #queue of urls to crawl\n",
    "seen = [seed_url]    #stack of urls seen so far\n",
    "opened = []          #we keep track of seen urls so that we don't revisit them\n",
    "contains_covid = []  #list of opened urls with containing \"covid\"\n",
    "\n",
    "maxNumUrl = 15; #set the maximum number of urls to visit as 15\n",
    "\n",
    "while len(urls) > 0 and len(contains_covid) < maxNumUrl:\n",
    "    try:\n",
    "        curr_url=urls.pop(0)\n",
    "        req = urllib.request.Request(curr_url,headers={'User-Agent': 'Mozilla/5.0'})\n",
    "        webpage = urllib.request.urlopen(req).read()\n",
    "        soup = BeautifulSoup(webpage)\n",
    "        opened.append(curr_url)\n",
    "        if is_contain_covid(soup):\n",
    "            print(curr_url)\n",
    "            contains_covid.append(curr_url)\n",
    "\n",
    "    except Exception as ex:\n",
    "        print(\"Unable to access= \"+curr_url)\n",
    "        print(ex)\n",
    "        continue    \n",
    "\n",
    "\n",
    "    for tag in soup.find_all('a', href = True): #find tags with links\n",
    "        childUrl = tag['href'] #extract just the link\n",
    "        o_childurl = childUrl\n",
    "        childUrl = urllib.parse.urljoin(seed_url, childUrl)\n",
    "\n",
    "        if seed_url[:-5] in childUrl and childUrl not in seen:\n",
    "            urls.append(childUrl)\n",
    "            seen.append(childUrl)\n",
    "\n",
    "\n",
    "\n"
   ]
  },
  {
   "cell_type": "markdown",
   "metadata": {},
   "source": [
    "The following are the 15 output links containing the word 'covid'.  \n",
    "https://www.federalreserve.gov/newsevents/pressreleases/2021-press.htm\n",
    "https://www.federalreserve.gov/newsevents/pressreleases/2020-press.htm\n",
    "https://www.federalreserve.gov/newsevents/pressreleases/monetary20220615a.htm\n",
    "https://www.federalreserve.gov/newsevents/pressreleases/monetary20220504a.htm\n",
    "https://www.federalreserve.gov/newsevents/pressreleases/monetary20220126a.htm\n",
    "https://www.federalreserve.gov/newsevents/pressreleases/other20220523a.htm\n",
    "https://www.federalreserve.gov/newsevents/pressreleases/enforcement20220405a.htm\n",
    "https://www.federalreserve.gov/newsevents/pressreleases/other20220225a.htm\n",
    "https://www.federalreserve.gov/newsevents/pressreleases/bcreg20220214a.htm\n",
    "https://www.federalreserve.gov/newsevents/pressreleases/other20220114a.htm\n",
    "https://www.federalreserve.gov/newsevents/pressreleases/monetary20211215a.htm\n",
    "https://www.federalreserve.gov/newsevents/pressreleases/monetary20211103a.htm\n",
    "https://www.federalreserve.gov/newsevents/pressreleases/monetary20210922a.htm\n",
    "https://www.federalreserve.gov/newsevents/pressreleases/monetary20210616a.htm\n",
    "https://www.federalreserve.gov/newsevents/pressreleases/monetary20210428a.htm\n",
    "\n"
   ]
  },
  {
   "cell_type": "markdown",
   "metadata": {},
   "source": [
    "# Question 2"
   ]
  },
  {
   "cell_type": "code",
   "execution_count": 35,
   "metadata": {},
   "outputs": [
    {
     "name": "stdout",
     "output_type": "stream",
     "text": [
      "https://www.sec.gov/news/pressreleases\n",
      "https://www.sec.gov/news/pressreleases#main-content\n",
      "https://www.sec.gov/news/pressreleases.rss\n",
      "https://www.sec.gov/news/pressrelease/2017-64.html\n",
      "https://www.sec.gov/news/pressrelease/2017-63.html\n",
      "https://www.sec.gov/news/pressrelease/2017-62.html\n",
      "https://www.sec.gov/news/pressrelease/2017-60.html\n",
      "https://www.sec.gov/news/pressrelease/2017-52.html\n",
      "https://www.sec.gov/news/pressrelease/2017-44.html\n",
      "https://www.sec.gov/news/pressrelease/2016-270.html\n",
      "https://www.sec.gov/news/pressrelease/2016-252.html\n",
      "https://www.sec.gov/news/pressrelease/2016-250.html\n",
      "https://www.sec.gov/news/pressrelease/2016-102.html\n",
      "https://www.sec.gov/news/pressrelease/2016-49.html\n",
      "https://www.sec.gov/news/pressrelease/2016-26.html\n",
      "https://www.sec.gov/news/pressrelease/2015-216.html\n",
      "https://www.sec.gov/news/pressrelease/2015-195.html\n",
      "https://www.sec.gov/news/pressrelease/2015-189.html\n",
      "https://www.sec.gov/news/pressrelease/2015-163.html\n",
      "https://www.sec.gov/news/pressrelease/2015-62\n"
     ]
    }
   ],
   "source": [
    "from bs4 import BeautifulSoup\n",
    "import urllib.request\n",
    "\n",
    "\n",
    "def is_contain_covid(soup):\n",
    "    '''\n",
    "    Returns True if the input soup object contains \"covid\"\n",
    "    text, and returns False otherwise. \n",
    "    '''\n",
    "    text = soup.get_text()\n",
    "    text = text.replace('\\n', ' ')\n",
    "    text = text.lower()\n",
    "    return 'charges' in text\n",
    "\n",
    "\n",
    "seed_url = \"https://www.sec.gov/news/pressreleases\"\n",
    "\n",
    "\n",
    "urls = [seed_url]    #queue of urls to crawl\n",
    "seen = [seed_url]    #stack of urls seen so far\n",
    "opened = []          #we keep track of seen urls so that we don't revisit them\n",
    "contains_charges = []  #list of opened urls with containing \"covid\"\n",
    "\n",
    "maxNumUrl = 20; #set the maximum number of urls to visit as 20\n",
    "\n",
    "while len(urls) > 0 and len(contains_charges) < maxNumUrl:\n",
    "    try:\n",
    "        curr_url=urls.pop(0)\n",
    "        req = urllib.request.Request(curr_url,headers={'User-Agent': 'Mozilla/5.0'})\n",
    "        webpage = urllib.request.urlopen(req).read()\n",
    "        soup = BeautifulSoup(webpage)\n",
    "        opened.append(curr_url)\n",
    "        if is_contain_covid(soup):\n",
    "            print(curr_url)\n",
    "            contains_charges.append(curr_url)\n",
    "\n",
    "    except Exception as ex:\n",
    "        print(\"Unable to access= \"+curr_url)\n",
    "        print(ex)\n",
    "        continue    \n",
    "\n",
    "\n",
    "    for tag in soup.find_all('a', href = True): #find tags with links\n",
    "        childUrl = tag['href'] #extract just the link\n",
    "        o_childurl = childUrl\n",
    "        childUrl = urllib.parse.urljoin(seed_url, childUrl)\n",
    "\n",
    "        if seed_url[:-1] in childUrl and childUrl not in seen:\n",
    "            # We need to remove the last \"s\" in order to find 20 child links\n",
    "            urls.append(childUrl)\n",
    "            seen.append(childUrl)\n",
    "\n",
    "\n",
    "\n"
   ]
  },
  {
   "cell_type": "markdown",
   "metadata": {},
   "source": [
    "The following are the 20 links containing \"charges\":  \n",
    "https://www.sec.gov/news/pressreleases  \n",
    "https://www.sec.gov/news/pressreleases#main-content  \n",
    "https://www.sec.gov/news/pressreleases.rss  \n",
    "https://www.sec.gov/news/pressrelease/2017-64.html  \n",
    "https://www.sec.gov/news/pressrelease/2017-63.html  \n",
    "https://www.sec.gov/news/pressrelease/2017-62.html  \n",
    "https://www.sec.gov/news/pressrelease/2017-60.html  \n",
    "https://www.sec.gov/news/pressrelease/2017-52.html  \n",
    "https://www.sec.gov/news/pressrelease/2017-44.html  \n",
    "https://www.sec.gov/news/pressrelease/2016-270.html  \n",
    "https://www.sec.gov/news/pressrelease/2016-252.html  \n",
    "https://www.sec.gov/news/pressrelease/2016-250.html  \n",
    "https://www.sec.gov/news/pressrelease/2016-102.html  \n",
    "https://www.sec.gov/news/pressrelease/2016-49.html  \n",
    "https://www.sec.gov/news/pressrelease/2016-26.html  \n",
    "https://www.sec.gov/news/pressrelease/2015-216.html  \n",
    "https://www.sec.gov/news/pressrelease/2015-195.html  \n",
    "https://www.sec.gov/news/pressrelease/2015-189.html  \n",
    "https://www.sec.gov/news/pressrelease/2015-163.html  \n",
    "https://www.sec.gov/news/pressrelease/2015-62  "
   ]
  }
 ],
 "metadata": {
  "kernelspec": {
   "display_name": "Python 3.9.7 ('base')",
   "language": "python",
   "name": "python3"
  },
  "language_info": {
   "codemirror_mode": {
    "name": "ipython",
    "version": 3
   },
   "file_extension": ".py",
   "mimetype": "text/x-python",
   "name": "python",
   "nbconvert_exporter": "python",
   "pygments_lexer": "ipython3",
   "version": "3.9.7"
  },
  "orig_nbformat": 4,
  "vscode": {
   "interpreter": {
    "hash": "ad2bdc8ecc057115af97d19610ffacc2b4e99fae6737bb82f5d7fb13d2f2c186"
   }
  }
 },
 "nbformat": 4,
 "nbformat_minor": 2
}
